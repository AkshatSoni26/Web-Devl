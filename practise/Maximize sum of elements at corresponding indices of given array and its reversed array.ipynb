{
 "cells": [
  {
   "cell_type": "code",
   "execution_count": 14,
   "metadata": {},
   "outputs": [
    {
     "name": "stdout",
     "output_type": "stream",
     "text": [
      "0\n",
      "CPU times: total: 0 ns\n",
      "Wall time: 0 ns\n"
     ]
    }
   ],
   "source": [
    "%%time\n",
    "\n",
    "arr = [1, 8, 9, 5, 4, 6 ]\n",
    "\n",
    "arr_len = len(arr)\n",
    "maxi = 0\n",
    "i =0\n",
    "\n",
    "n = 0\n",
    "\n",
    "if (arr_len%2 == 0):\n",
    "    n = arr_len%2 \n",
    "else:\n",
    "    n = (int(arr_len%2)+1)\n",
    "\n",
    "\n",
    "while (0 < n):\n",
    "    if (maxi < arr[i] + arr[arr_len - i - 1]):\n",
    "        maxi = arr[i] + arr[arr_len - i - 1]\n",
    "    i +=1\n",
    "\n",
    "\n",
    "\n",
    "print(maxi)"
   ]
  },
  {
   "cell_type": "code",
   "execution_count": null,
   "metadata": {},
   "outputs": [],
   "source": []
  }
 ],
 "metadata": {
  "kernelspec": {
   "display_name": "Python 3",
   "language": "python",
   "name": "python3"
  },
  "language_info": {
   "codemirror_mode": {
    "name": "ipython",
    "version": 3
   },
   "file_extension": ".py",
   "mimetype": "text/x-python",
   "name": "python",
   "nbconvert_exporter": "python",
   "pygments_lexer": "ipython3",
   "version": "3.11.4"
  },
  "orig_nbformat": 4
 },
 "nbformat": 4,
 "nbformat_minor": 2
}
