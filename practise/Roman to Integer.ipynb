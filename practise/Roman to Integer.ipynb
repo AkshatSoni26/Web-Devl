{
 "cells": [
  {
   "cell_type": "code",
   "execution_count": null,
   "metadata": {},
   "outputs": [],
   "source": [
    "# I :- 1\n",
    "\n",
    "# V :- 5\n",
    "\n",
    "# X :- 10\n",
    "\n",
    "# L :- 50 \n",
    "\n",
    "# C :- 100\n",
    "\n",
    "# D :- 500\n",
    "\n",
    "# M :- 1000\n",
    "\n",
    "#  III :- 3\n",
    "\n",
    "# IV :- 4\n",
    "\n",
    "# V :- 5\n",
    "\n",
    "# VI :- 6\n",
    "\n",
    "# MCMXCIV :- 1994"
   ]
  }
 ],
 "metadata": {
  "language_info": {
   "name": "python"
  },
  "orig_nbformat": 4
 },
 "nbformat": 4,
 "nbformat_minor": 2
}
