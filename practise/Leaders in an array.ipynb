{
 "cells": [
  {
   "cell_type": "code",
   "execution_count": 1,
   "metadata": {},
   "outputs": [
    {
     "name": "stdout",
     "output_type": "stream",
     "text": [
      "[2, 5]\n",
      "CPU times: total: 0 ns\n",
      "Wall time: 0 ns\n"
     ]
    }
   ],
   "source": [
    "%%time\n",
    "\n",
    "arr = [1, 2, 3, 4, 5, 2 ]\n",
    "\n",
    "loop_num = len(arr)-1\n",
    "ans_arr = [arr[-1]]\n",
    "i = 0\n",
    "\n",
    "while i < loop_num:\n",
    "    j = i+1\n",
    "    check = True\n",
    "    while j <loop_num+1:\n",
    "        if (arr[i] <= arr[j] ): \n",
    "            check = False\n",
    "            break\n",
    "        j +=1\n",
    "    if( check == True) : \n",
    "        ans_arr.append(arr[i])  \n",
    "    i +=1\n",
    "print(ans_arr)"
   ]
  }
 ],
 "metadata": {
  "kernelspec": {
   "display_name": "Python 3",
   "language": "python",
   "name": "python3"
  },
  "language_info": {
   "codemirror_mode": {
    "name": "ipython",
    "version": 3
   },
   "file_extension": ".py",
   "mimetype": "text/x-python",
   "name": "python",
   "nbconvert_exporter": "python",
   "pygments_lexer": "ipython3",
   "version": "3.11.4"
  },
  "orig_nbformat": 4
 },
 "nbformat": 4,
 "nbformat_minor": 2
}
