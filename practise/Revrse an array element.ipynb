{
 "cells": [
  {
   "cell_type": "code",
   "execution_count": 18,
   "metadata": {},
   "outputs": [
    {
     "name": "stdout",
     "output_type": "stream",
     "text": [
      "3 2 1 6 5 4 \n",
      "CPU times: total: 0 ns\n",
      "Wall time: 998 µs\n"
     ]
    }
   ],
   "source": [
    "%%time\n",
    "\n",
    "arr = [1,2,3,4,5,6]\n",
    "k = 3\n",
    "\n",
    "# ans = 3,2,1,6,5,4,9,8,7\n",
    "\n",
    "num =0 \n",
    "arrLen = len(arr)\n",
    "main_arr = ''\n",
    "loopNumber = arrLen/k\n",
    "\n",
    "if ((loopNumber - int(loopNumber)) == 0):\n",
    "    loopNumber = int(loopNumber)\n",
    "else:\n",
    "    loopNumber = int(loopNumber + 1)\n",
    "\n",
    "\n",
    "for i in range(loopNumber):\n",
    "    for j in arr[num:num+k][::-1]:\n",
    "       main_arr = main_arr+str(j)+' '\n",
    "    num = num+k\n",
    "\n",
    "print(main_arr)"
   ]
  }
 ],
 "metadata": {
  "kernelspec": {
   "display_name": "Python 3",
   "language": "python",
   "name": "python3"
  },
  "language_info": {
   "codemirror_mode": {
    "name": "ipython",
    "version": 3
   },
   "file_extension": ".py",
   "mimetype": "text/x-python",
   "name": "python",
   "nbconvert_exporter": "python",
   "pygments_lexer": "ipython3",
   "version": "3.11.4"
  },
  "orig_nbformat": 4
 },
 "nbformat": 4,
 "nbformat_minor": 2
}
